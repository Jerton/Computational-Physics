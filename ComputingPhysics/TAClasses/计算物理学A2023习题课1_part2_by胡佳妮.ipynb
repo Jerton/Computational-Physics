{
 "cells": [
  {
   "cell_type": "markdown",
   "id": "0f8d25b0",
   "metadata": {},
   "source": [
    "# 2023计算物理学A 第一次习题课 \n",
    "## 第二部分\n",
    "胡佳妮 2023.10.17\n",
    "### 1. numpy矩阵乘法\n",
    "数组（np.array）是有序排列的【同类数据元素】的集合  \n",
    "矩阵（np.matrix）是一个按照【二维】排列的【复数】集合"
   ]
  },
  {
   "cell_type": "code",
   "execution_count": 56,
   "id": "7e5b43df",
   "metadata": {},
   "outputs": [],
   "source": [
    "import numpy as np"
   ]
  },
  {
   "cell_type": "code",
   "execution_count": 57,
   "id": "aa3f29bb",
   "metadata": {},
   "outputs": [],
   "source": [
    "a=[[1,2,3],[4,5,6]]\n",
    "b=[1,2,3]\n",
    "c=[[1],[2],[3]]"
   ]
  },
  {
   "cell_type": "markdown",
   "id": "72f4397f",
   "metadata": {},
   "source": [
    "#### 1.1 np.matrix"
   ]
  },
  {
   "cell_type": "code",
   "execution_count": 58,
   "id": "c343e7fb",
   "metadata": {},
   "outputs": [],
   "source": [
    "a_M=np.matrix(a)\n",
    "b_M=np.matrix(b)\n",
    "c_M=np.matrix(c)"
   ]
  },
  {
   "cell_type": "code",
   "execution_count": 59,
   "id": "199e8254",
   "metadata": {},
   "outputs": [
    {
     "name": "stdout",
     "output_type": "stream",
     "text": [
      "[[14]\n",
      " [32]]\n"
     ]
    },
    {
     "data": {
      "text/plain": [
       "(2, 1)"
      ]
     },
     "execution_count": 59,
     "metadata": {},
     "output_type": "execute_result"
    }
   ],
   "source": [
    "#矩阵相乘\n",
    "print(a_M*c_M)\n",
    "(a_M*c_M).shape"
   ]
  },
  {
   "cell_type": "code",
   "execution_count": 60,
   "id": "c06df68e",
   "metadata": {},
   "outputs": [
    {
     "data": {
      "text/plain": [
       "matrix([[14],\n",
       "        [32]])"
      ]
     },
     "execution_count": 60,
     "metadata": {},
     "output_type": "execute_result"
    }
   ],
   "source": [
    "#矩阵相乘\n",
    "a_M@c_M"
   ]
  },
  {
   "cell_type": "code",
   "execution_count": 61,
   "id": "bb227708",
   "metadata": {},
   "outputs": [
    {
     "data": {
      "text/plain": [
       "matrix([[14],\n",
       "        [32]])"
      ]
     },
     "execution_count": 61,
     "metadata": {},
     "output_type": "execute_result"
    }
   ],
   "source": [
    "#矩阵相乘\n",
    "np.dot(a_M,c_M)"
   ]
  },
  {
   "cell_type": "code",
   "execution_count": 62,
   "id": "64048f0c",
   "metadata": {},
   "outputs": [
    {
     "data": {
      "text/plain": [
       "matrix([[14],\n",
       "        [32]])"
      ]
     },
     "execution_count": 62,
     "metadata": {},
     "output_type": "execute_result"
    }
   ],
   "source": [
    "#矩阵相乘\n",
    "np.matmul(a_M,c_M)"
   ]
  },
  {
   "cell_type": "code",
   "execution_count": 64,
   "id": "0a65dde7",
   "metadata": {},
   "outputs": [
    {
     "ename": "ValueError",
     "evalue": "operands could not be broadcast together with shapes (2,3) (3,1) ",
     "output_type": "error",
     "traceback": [
      "\u001b[1;31m---------------------------------------------------------------------------\u001b[0m",
      "\u001b[1;31mValueError\u001b[0m                                Traceback (most recent call last)",
      "Cell \u001b[1;32mIn[64], line 2\u001b[0m\n\u001b[0;32m      1\u001b[0m \u001b[38;5;66;03m#元素相乘\u001b[39;00m\n\u001b[1;32m----> 2\u001b[0m np\u001b[38;5;241m.\u001b[39mmultiply(a_M,c_M)\n",
      "\u001b[1;31mValueError\u001b[0m: operands could not be broadcast together with shapes (2,3) (3,1) "
     ]
    }
   ],
   "source": [
    "#元素相乘\n",
    "np.multiply(a_M,c_M) #因为是元素相乘，所以会报错"
   ]
  },
  {
   "cell_type": "code",
   "execution_count": 65,
   "id": "b9f14759",
   "metadata": {},
   "outputs": [
    {
     "data": {
      "text/plain": [
       "matrix([[ 1,  4,  9],\n",
       "        [ 4, 10, 18]])"
      ]
     },
     "execution_count": 65,
     "metadata": {},
     "output_type": "execute_result"
    }
   ],
   "source": [
    "np.multiply(a_M,b_M)"
   ]
  },
  {
   "cell_type": "markdown",
   "id": "ae42f1a0",
   "metadata": {},
   "source": [
    "#### np.array"
   ]
  },
  {
   "cell_type": "code",
   "execution_count": 66,
   "id": "9b2460aa",
   "metadata": {},
   "outputs": [
    {
     "data": {
      "text/plain": [
       "array([1, 2, 3])"
      ]
     },
     "execution_count": 66,
     "metadata": {},
     "output_type": "execute_result"
    }
   ],
   "source": [
    "a_A=np.array(a)\n",
    "b_A=np.array(b)\n",
    "b_A"
   ]
  },
  {
   "cell_type": "markdown",
   "id": "8cf0700a",
   "metadata": {},
   "source": [
    "b_A不是矩阵，np.array([[1,2,3]])或np.matrix([1,2,3])才算"
   ]
  },
  {
   "cell_type": "code",
   "execution_count": 67,
   "id": "3c19d0bc",
   "metadata": {},
   "outputs": [
    {
     "data": {
      "text/plain": [
       "array([[ 1,  4,  9],\n",
       "       [ 4, 10, 18]])"
      ]
     },
     "execution_count": 67,
     "metadata": {},
     "output_type": "execute_result"
    }
   ],
   "source": [
    "#元素相乘\n",
    "a_A*b_A"
   ]
  },
  {
   "cell_type": "code",
   "execution_count": 68,
   "id": "0667140c",
   "metadata": {},
   "outputs": [
    {
     "name": "stdout",
     "output_type": "stream",
     "text": [
      "[14 32]\n"
     ]
    },
    {
     "data": {
      "text/plain": [
       "(2,)"
      ]
     },
     "execution_count": 68,
     "metadata": {},
     "output_type": "execute_result"
    }
   ],
   "source": [
    "#矩阵相乘\n",
    "print(a_A@b_A)\n",
    "(a_A@b_A).shape"
   ]
  },
  {
   "cell_type": "code",
   "execution_count": 69,
   "id": "d8a9894b",
   "metadata": {},
   "outputs": [
    {
     "data": {
      "text/plain": [
       "(2, 1)"
      ]
     },
     "execution_count": 69,
     "metadata": {},
     "output_type": "execute_result"
    }
   ],
   "source": [
    "d=np.array([[1],[2]])\n",
    "d.shape"
   ]
  },
  {
   "cell_type": "markdown",
   "id": "3155bc27",
   "metadata": {},
   "source": [
    "np.array 取第一列A[:, 0] 返回的不是矩阵, shape是没有列的维度的(例如(2,) 而不是(2,1)), 而np.matrix则是列向量形式的矩阵(符合预期)"
   ]
  },
  {
   "cell_type": "code",
   "execution_count": 70,
   "id": "ab2fd35c",
   "metadata": {},
   "outputs": [
    {
     "data": {
      "text/plain": [
       "array([14, 32])"
      ]
     },
     "execution_count": 70,
     "metadata": {},
     "output_type": "execute_result"
    }
   ],
   "source": [
    "#矩阵相乘\n",
    "np.dot(a_A,b_A)"
   ]
  },
  {
   "cell_type": "code",
   "execution_count": 71,
   "id": "2b08d01d",
   "metadata": {},
   "outputs": [
    {
     "data": {
      "text/plain": [
       "array([14, 32])"
      ]
     },
     "execution_count": 71,
     "metadata": {},
     "output_type": "execute_result"
    }
   ],
   "source": [
    "#矩阵相乘\n",
    "np.matmul(a_A,b_A)"
   ]
  },
  {
   "cell_type": "code",
   "execution_count": 72,
   "id": "384ead2e",
   "metadata": {},
   "outputs": [
    {
     "data": {
      "text/plain": [
       "array([[ 1,  4,  9],\n",
       "       [ 4, 10, 18]])"
      ]
     },
     "execution_count": 72,
     "metadata": {},
     "output_type": "execute_result"
    }
   ],
   "source": [
    "#元素相乘\n",
    "np.multiply(a_A,b_A)"
   ]
  },
  {
   "cell_type": "markdown",
   "id": "c9641d1c",
   "metadata": {},
   "source": [
    "## 2. pandas初步\n",
    "### 2.1 pandas概况\n",
    "Pandas的两大主要数据结构是Series和DataFrame。DataFrame是一种二维数据表，每列可以是不同数据类型，每一个列是一个series。    \n",
    "Series是带标签的一维数组，可储存整数、浮点数、字符串等类型的数据，由纵向排列的values和index组成，可以通过字典方式，key获取value。\n",
    "### 2.2 数据表内容生成"
   ]
  },
  {
   "cell_type": "code",
   "execution_count": 73,
   "id": "4ef59e12",
   "metadata": {},
   "outputs": [],
   "source": [
    "import pandas as pd"
   ]
  },
  {
   "cell_type": "markdown",
   "id": "77efd909",
   "metadata": {},
   "source": [
    "#### 2.2.1 建立数据表\n",
    "pd.DataFrame"
   ]
  },
  {
   "cell_type": "code",
   "execution_count": 101,
   "id": "821ef50f",
   "metadata": {},
   "outputs": [
    {
     "name": "stdout",
     "output_type": "stream",
     "text": [
      "   A  B  C\n",
      "a  2  4  5\n",
      "b  5  5  2\n",
      "               Alice       Bob     Cathy\n",
      "2023-03-31 -0.068994 -1.270421 -0.565206\n",
      "2023-04-01  0.317719 -0.774351 -1.983462\n",
      "2023-04-02  0.955290  1.368207  0.605859\n",
      "2023-04-03 -0.813152  0.175058 -2.085859\n",
      "2023-04-04  0.348438  0.835740  0.995328\n",
      "  school  year  scores\n",
      "a    PKU  2022      20\n",
      "b    PKU  2021      30\n",
      "c    THU  2020       4\n"
     ]
    }
   ],
   "source": [
    "#直接生成\n",
    "a=[['2','4','5'],['5','5','2']] \n",
    "df=pd.DataFrame(a,columns=['A','B','C'],index=['a','b']) # 如果不加columns（列）和index（行），则默认从0，1，2...\n",
    "print(df)\n",
    "df2=pd.DataFrame(np.random.randn(5,3),index=pd.date_range('20230331',periods=5),columns=[\"Alice\",\"Bob\",\"Cathy\"]) #\"periods=\"不可省了\n",
    "print(df2)\n",
    "\n",
    "#字典创建\n",
    "dic3={'school':['PKU','PKU','THU'],'year':['2022','2021','2020'],'scores':[20,30,4]} #创建series\n",
    "df3=pd.DataFrame(dic3,index=['a','b','c'])\n",
    "print(df3)"
   ]
  },
  {
   "cell_type": "markdown",
   "id": "31e649e4",
   "metadata": {},
   "source": [
    "#### 2.2.2 时间索引生成\n",
    "pd.date_range用于生成固定频率的时间索引\n",
    "pd.date_range(stat=xx,end=xx,periods=xx,freq=xx)前三个必须要写两个，periods为数量，freq默认D，也可M,H,5H...）"
   ]
  },
  {
   "cell_type": "code",
   "execution_count": 102,
   "id": "261b4dd7",
   "metadata": {},
   "outputs": [
    {
     "name": "stdout",
     "output_type": "stream",
     "text": [
      "            0  1  2\n",
      "2023-03-31  2  4  5\n",
      "2023-04-01  5  5  2\n",
      "2023-04-02  4  7  8\n"
     ]
    }
   ],
   "source": [
    "import pandas as pd\n",
    "a=[['2','4','5'],['5','5','2'],['4','7','8']]\n",
    "b=pd.date_range('20230331','20230402')\n",
    "df=pd.DataFrame(a,index=b)\n",
    "print(df)"
   ]
  },
  {
   "cell_type": "markdown",
   "id": "4ffd744d",
   "metadata": {},
   "source": [
    "##### 补充：datetime模块"
   ]
  },
  {
   "cell_type": "code",
   "execution_count": 103,
   "id": "16c1155d",
   "metadata": {},
   "outputs": [],
   "source": [
    "from datetime import datetime,time,timedelta"
   ]
  },
  {
   "cell_type": "markdown",
   "id": "c7ca1e10",
   "metadata": {},
   "source": [
    "(1)时间获取"
   ]
  },
  {
   "cell_type": "code",
   "execution_count": 104,
   "id": "f0a06023",
   "metadata": {},
   "outputs": [
    {
     "name": "stdout",
     "output_type": "stream",
     "text": [
      "2023-10-16 21:52:43.818375\n",
      "2023-10-16 21:52:43.819375\n"
     ]
    },
    {
     "data": {
      "text/plain": [
       "datetime.datetime"
      ]
     },
     "execution_count": 104,
     "metadata": {},
     "output_type": "execute_result"
    }
   ],
   "source": [
    "#获取当前时间\n",
    "current_time1=datetime.today()\n",
    "print(current_time1)\n",
    "current_time2=datetime.now()\n",
    "print(current_time2)\n",
    "#都是报现在时间\n",
    "#继续.date()是提取年月日；.()是提取时分秒；。hour()，day,second,year...\n",
    "type(current_time1)"
   ]
  },
  {
   "cell_type": "markdown",
   "id": "ce6f8b32",
   "metadata": {},
   "source": [
    "（2）格式转换"
   ]
  },
  {
   "cell_type": "code",
   "execution_count": 105,
   "id": "bbc62b98",
   "metadata": {},
   "outputs": [
    {
     "name": "stdout",
     "output_type": "stream",
     "text": [
      "2023-10-16\n",
      "2020-12-31 00:00:00\n",
      "2021-12-30 00:00:00\n"
     ]
    }
   ],
   "source": [
    "#日期转字符串\n",
    "datetime_str=current_time1.strftime(\"%Y-%m-%d\") #strftime指定格式化的字符输出。%Y四位数的年份，%y两位数的年份\n",
    "print(datetime_str)\n",
    "\n",
    "#字符串转时间\n",
    "datetime_dt=datetime.strptime(\"2020-12-31\",\"%Y-%m-%d\")\n",
    "print(datetime_dt)\n",
    "dt=pd.to_datetime(\"2021-12-30\")\n",
    "print(dt)"
   ]
  },
  {
   "cell_type": "markdown",
   "id": "4b92e335",
   "metadata": {},
   "source": [
    "（3）时间增量"
   ]
  },
  {
   "cell_type": "code",
   "execution_count": 106,
   "id": "62684f08",
   "metadata": {},
   "outputs": [
    {
     "name": "stdout",
     "output_type": "stream",
     "text": [
      "2022-10-16\n",
      "117 days, 0:00:00\n",
      "294.7 minutes\n"
     ]
    }
   ],
   "source": [
    "end_date=datetime.now().date()\n",
    "start_date=end_date-timedelta(days=365) #timedelta表示时间差值，不能先化成字符串再减。days可以换成其他单位\n",
    "#timedata()与pd.Timedelta()等效\n",
    "print(start_date)\n",
    "\n",
    "d1=datetime(2018,10,31)\n",
    "d2=datetime(2019,2,25)\n",
    "interval0=d2-d1\n",
    "print(interval0) #当然也可以.days()等。不是年或者月的整数时调用会报错，但可以用days()/365\n",
    "\n",
    "# 计算两个时点之间相差多少分钟\n",
    "t1 = datetime(2018, 10, 31, 10, 30, 1)\n",
    "t2 = datetime(2018, 10, 31, 15, 24, 43)\n",
    "interval = t2 - t1\n",
    "print(interval.total_seconds()/60, 'minutes')"
   ]
  },
  {
   "cell_type": "markdown",
   "id": "08f4dcad",
   "metadata": {},
   "source": [
    "### 2.3 数据表内容处理\n",
    "#### 2.3.1 内容读取"
   ]
  },
  {
   "cell_type": "code",
   "execution_count": 107,
   "id": "d943c7b9",
   "metadata": {},
   "outputs": [
    {
     "name": "stdout",
     "output_type": "stream",
     "text": [
      "               Alice       Bob     Cathy\n",
      "2023-03-31 -0.068994 -1.270421 -0.565206\n",
      "2023-04-01  0.317719 -0.774351 -1.983462\n",
      "2023-04-02  0.955290  1.368207  0.605859\n",
      "2023-04-03 -0.813152  0.175058 -2.085859\n",
      "2023-04-04  0.348438  0.835740  0.995328\n",
      "                 Bob     Cathy\n",
      "2023-04-02  1.368207  0.605859\n",
      "2023-04-03  0.175058 -2.085859\n",
      "2023-04-04  0.835740  0.995328\n",
      "Alice    0.317719\n",
      "Bob     -0.774351\n",
      "Name: 2023-04-01 00:00:00, dtype: float64\n",
      "2023-03-31 00:00:00 Bob\n"
     ]
    }
   ],
   "source": [
    "#区域读取\n",
    "print(df2)\n",
    "a=df2.iloc[2:,1:] #df.iloc是位置读取，[行，列],可以有负数\n",
    "print(a)\n",
    "\n",
    "b=df2.loc['2023-04-01',df2.columns[:2]] #df.loc是名称读取。当只有一行时不返回表格式样\n",
    "#若取整行或者整列，可以只写一个名字\n",
    "print(b)\n",
    "print(df2.index[0],df2.columns[1]) #不是数据，而是名称的字符串"
   ]
  },
  {
   "cell_type": "code",
   "execution_count": 108,
   "id": "1e04798e",
   "metadata": {},
   "outputs": [
    {
     "name": "stdout",
     "output_type": "stream",
     "text": [
      "  school  year  scores\n",
      "a    PKU  2022      20\n",
      "b    PKU  2021      30\n",
      "c    THU  2020       4\n",
      "a    PKU\n",
      "b    PKU\n",
      "c    THU\n",
      "Name: school, dtype: object\n",
      "school     PKU\n",
      "year      2022\n",
      "scores      20\n",
      "Name: a, dtype: object\n",
      "               Alice       Bob     Cathy\n",
      "2023-04-02  0.955290  1.368207  0.605859\n",
      "2023-04-03 -0.813152  0.175058 -2.085859\n",
      "2023-04-04  0.348438  0.835740  0.995328\n",
      "  school  year  scores\n",
      "0    PKU  2022      20\n",
      "1    PKU  2021      30\n",
      "2    THU  2020       4\n",
      "  school  year  scores\n",
      "1    PKU  2021      30\n",
      "2    THU  2020       4\n"
     ]
    }
   ],
   "source": [
    "#行列读取\n",
    "#列读取\n",
    "print(df3)\n",
    "school=df3.school #或者df3[\"school\"],总之和字典一样.上一种方式字典没有。index不能用这两种方式索引，只能用区域读取\n",
    "print (school)\n",
    "\n",
    "#行读取\n",
    "A=df3.loc[\"a\"]\n",
    "print(A)\n",
    "\n",
    "#有数值排列的行列读取\n",
    "from datetime import datetime\n",
    "S=df2.loc[datetime(2023,4,2):]#这个非常常用\n",
    "print(S)\n",
    "\n",
    "dp=pd.DataFrame(dic3)\n",
    "print(dp)\n",
    "print(dp.loc[1:])#但仍然不支持负数，本质还是检索的内容而非位置"
   ]
  },
  {
   "cell_type": "code",
   "execution_count": 109,
   "id": "51ee9ae5",
   "metadata": {},
   "outputs": [
    {
     "name": "stdout",
     "output_type": "stream",
     "text": [
      "  school  year  scores\n",
      "a    PKU  2022      20\n",
      "b    PKU  2021      30\n",
      "  school  year  scores\n",
      "b    PKU  2021      30\n",
      "c    THU  2020       4\n"
     ]
    }
   ],
   "source": [
    "#首尾读取\n",
    "head=df3.head(2)#前两行\n",
    "print(head)\n",
    "tail=df3.tail(2)#后两行\n",
    "print(tail)"
   ]
  },
  {
   "cell_type": "markdown",
   "id": "9f1fcc9a",
   "metadata": {},
   "source": [
    "#### 2.3.2位置查找\n",
    ".idxmax()"
   ]
  },
  {
   "cell_type": "markdown",
   "id": "ef4933b4",
   "metadata": {},
   "source": [
    "#### 2.3.3 内容修改"
   ]
  },
  {
   "cell_type": "code",
   "execution_count": 110,
   "id": "f4576ade",
   "metadata": {},
   "outputs": [
    {
     "name": "stdout",
     "output_type": "stream",
     "text": [
      "               Alice       Bob     Cathy\n",
      "2023-03-31 -0.068994 -1.270421 -0.565206\n",
      "2023-04-01  0.317719 -0.774351  2.000000\n",
      "2023-04-02  0.955290  1.368207  0.605859\n",
      "2023-04-03  1.000000  0.175058 -2.085859\n",
      "2023-04-04  0.348438  0.835740  0.995328\n"
     ]
    }
   ],
   "source": [
    "#赋值修改\n",
    "df2.loc[df2.index[3],df2.columns[0]]=1 \n",
    "df2.iloc[1,2]=2\n",
    "print(df2)"
   ]
  },
  {
   "cell_type": "markdown",
   "id": "ad787d99",
   "metadata": {},
   "source": [
    "#### 补充：NA值处理\n",
    ".dropna(）   \n",
    ".fillna()"
   ]
  },
  {
   "cell_type": "markdown",
   "id": "c8b4f708",
   "metadata": {},
   "source": [
    "#### 2.3.4 内置计算"
   ]
  },
  {
   "cell_type": "code",
   "execution_count": 122,
   "id": "b62aa860",
   "metadata": {},
   "outputs": [
    {
     "name": "stdout",
     "output_type": "stream",
     "text": [
      "               Alice       Bob     Cathy       min\n",
      "2023-03-31 -0.068994 -1.270421 -0.565206 -0.068994\n",
      "2023-04-01  0.317719 -0.774351  2.000000  0.317719\n",
      "2023-04-02  0.955290  1.368207  0.605859  0.955290\n",
      "2023-04-03  1.000000  0.175058 -2.085859  1.000000\n",
      "2023-04-04  0.348438  0.835740  0.995328  0.348438\n",
      "               Alice       Bob     Cathy       min\n",
      "2023-03-31 -0.068994 -1.270421 -0.565206 -0.068994\n",
      "2023-04-01  0.317719 -0.774351  2.000000  0.317719\n",
      "2023-04-02  0.955290  1.368207  0.605859  0.955290\n",
      "2023-04-03  1.000000  0.175058 -2.085859  1.000000\n",
      "2023-04-04  0.348438  0.835740  0.995328  0.348438\n",
      "1.0\n",
      "2023-03-31         NaN\n",
      "2023-04-01   -5.604995\n",
      "2023-04-02    2.006716\n",
      "2023-04-03    0.046803\n",
      "2023-04-04   -0.651562\n",
      "Freq: D, Name: Alice, dtype: float64\n",
      "3.2379632880162066\n",
      "          Alice       Bob\n",
      "Alice  1.000000  0.721275\n",
      "Bob    0.721275  1.000000\n"
     ]
    }
   ],
   "source": [
    "#max,min,mean,median\n",
    "print(df2)\n",
    "df2['min']=df2[df2.columns[:1]].min(axis=1) #df[]里面是名称，牢记DF本质是字典！\n",
    "print(df2)\n",
    "print(df2.Alice.max())\n",
    "\n",
    "#pct_change相邻两天百分比变化（收益率）\n",
    "print(df2.Alice.pct_change()) #用收盘价\n",
    "\n",
    "#std标准差\n",
    "daily=df2.Alice.pct_change().std()\n",
    "print(daily)\n",
    "\n",
    "#corr相关性(r[-1,1])\n",
    "r=df2[[\"Alice\",\"Bob\"]].corr()\n",
    "print(r)"
   ]
  },
  {
   "cell_type": "code",
   "execution_count": 126,
   "id": "6d06f524",
   "metadata": {},
   "outputs": [
    {
     "name": "stdout",
     "output_type": "stream",
     "text": [
      "2023-03-31   -0.068994\n",
      "2023-04-01    0.317719\n",
      "2023-04-02    0.955290\n",
      "2023-04-03    1.000000\n",
      "2023-04-04    1.000000\n",
      "Freq: D, Name: Alice, dtype: float64\n",
      "2023-03-31   -0.068994\n",
      "2023-04-01   -0.021921\n",
      "2023-04-02   -0.020941\n",
      "2023-04-03   -0.020941\n",
      "2023-04-04   -0.007297\n",
      "Freq: D, Name: Alice, dtype: float64\n"
     ]
    }
   ],
   "source": [
    "#累计最大值\n",
    "print(df2.Alice.cummax())\n",
    "#累计乘法\n",
    "print(df2.Alice.cumprod())"
   ]
  },
  {
   "cell_type": "markdown",
   "id": "bab9214d",
   "metadata": {},
   "source": [
    "#### 2.3.5 数据合并\n",
    "pd.merge()，pd.contact()，.join()"
   ]
  },
  {
   "cell_type": "code",
   "execution_count": 123,
   "id": "265516a6",
   "metadata": {},
   "outputs": [
    {
     "name": "stdout",
     "output_type": "stream",
     "text": [
      "               David\n",
      "2023-03-31 -0.419200\n",
      "2023-04-01  0.386146\n",
      "2023-04-02 -1.836189\n",
      "2023-04-03 -0.560856\n",
      "2023-04-04  0.128600\n",
      "       key_0     Alice       Bob     Cathy       min     David\n",
      "0 2023-03-31 -0.068994 -1.270421 -0.565206 -0.068994 -0.419200\n",
      "1 2023-04-01  0.317719 -0.774351  2.000000  0.317719  0.386146\n",
      "2 2023-04-02  0.955290  1.368207  0.605859  0.955290 -1.836189\n",
      "3 2023-04-03  1.000000  0.175058 -2.085859  1.000000 -0.560856\n",
      "4 2023-04-04  0.348438  0.835740  0.995328  0.348438  0.128600\n"
     ]
    }
   ],
   "source": [
    "#pd.merge()\n",
    "df2_add=pd.DataFrame(np.random.randn(5),index=pd.date_range('20230331',periods=5),columns=[\"David\"]) \n",
    "print(df2_add)\n",
    "df2_new=pd.merge(df2,df2_add,on=pd.date_range('20230331',periods=5))\n",
    "#对齐date添加到一个表中，,suffixes=(\"_xxx\")在column后缀名加下划线标识\n",
    "print(df2_new)"
   ]
  },
  {
   "cell_type": "markdown",
   "id": "cf8692e7",
   "metadata": {},
   "source": [
    ".join(other, on=None, how=’left’, lsuffix=”, rsuffix=”, sort=False)\n",
    "\n",
    "通过索引或者指定的列连接一个或多个的DataFrame，底层是merge，但merge只能横向联结，参数包括： \n",
    "\n",
    "* other：代表需要合并的一个或者多个DataFrame，或者带有名字的Series\n",
    "* on：列名称，或者列名称的列表/元组，或者类似形状的数组；默认使用索引连接\n",
    "* how：连接方式包括‘left',‘right',‘outer’,‘inner’4种连接方式；默认使用左连接\n",
    "* lsuffix：左DataFrame中重复列的后缀, 注意是重复列添加后缀，不是所有的列\n",
    "* rsuffix：右DataFrame中重复列的后缀，注意是重复列添加后缀，不是所有的列\n",
    "* sort：按照字典顺序对结果在连接键上排序；如果为False，连接键的顺序取决于连接类型（关键字)\n",
    "     \n",
    "pd.concat()    \n",
    "更多是物理拼接，不像前两者是通过索引或者列识别"
   ]
  },
  {
   "cell_type": "markdown",
   "id": "245e0ce3",
   "metadata": {},
   "source": [
    "#### 2.3.6 数据分组\n",
    "\n",
    ".groupby()就是按xx分组, 标准用法为: <br />\n",
    "        ```DataFrame.groupby(by=None, axis=0, level=None, as_index=True, sort=True, group_keys=True, squeeze=False, **kwargs)``` <br />\n",
    "先关注by参数，表示根据哪一列或者哪几列分组，如果没有设置则默认按照索引分组，其余参数较为繁杂，可以使用默认值。<br />\n",
    "\n",
    "最基本的就是组内计数, 求和, 求均值, 求方差。例如 <br />\n",
    "        ```dataframe.groupby('race')['age'].mean() ```<br />\n",
    "此外，也可以用apply或者agg方法传入自定义的函数进行运算，例如 <br />\n",
    "       ```dataframe.groupby('race')['age'].apply(lambda x: max(x) - min(x))```"
   ]
  },
  {
   "cell_type": "markdown",
   "id": "1079f8b9",
   "metadata": {},
   "source": [
    "##### 2.3.7 极值截断\n"
   ]
  },
  {
   "cell_type": "code",
   "execution_count": 131,
   "id": "4e34fbfa",
   "metadata": {},
   "outputs": [
    {
     "name": "stdout",
     "output_type": "stream",
     "text": [
      "         Alice       Bob     Cathy       min\n",
      "0.05  0.008348 -1.171207 -1.781729  0.008348\n",
      "0.95  0.991058  1.261714  1.799066  0.991058\n"
     ]
    }
   ],
   "source": [
    "confidence_level = 0.05\n",
    "thresh = df2.quantile([confidence_level, 1 - confidence_level])\n",
    "print(thresh)"
   ]
  },
  {
   "cell_type": "code",
   "execution_count": 133,
   "id": "f15e6826",
   "metadata": {},
   "outputs": [
    {
     "name": "stdout",
     "output_type": "stream",
     "text": [
      "2023-03-31   -0.068994\n",
      "2023-04-01    0.317719\n",
      "2023-04-02    0.500000\n",
      "2023-04-03    0.500000\n",
      "2023-04-04    0.348438\n",
      "Freq: D, Name: Alice, dtype: float64\n"
     ]
    }
   ],
   "source": [
    "print(df2.Alice.clip(-0.5,0.5))"
   ]
  },
  {
   "cell_type": "markdown",
   "id": "e546bf57",
   "metadata": {},
   "source": [
    "一个pandas有趣实例，见课堂演示（狗头jpg.)"
   ]
  },
  {
   "cell_type": "code",
   "execution_count": null,
   "id": "4402c568",
   "metadata": {},
   "outputs": [],
   "source": []
  }
 ],
 "metadata": {
  "kernelspec": {
   "display_name": "Python 3 (ipykernel)",
   "language": "python",
   "name": "python3"
  },
  "language_info": {
   "codemirror_mode": {
    "name": "ipython",
    "version": 3
   },
   "file_extension": ".py",
   "mimetype": "text/x-python",
   "name": "python",
   "nbconvert_exporter": "python",
   "pygments_lexer": "ipython3",
   "version": "3.11.4"
  }
 },
 "nbformat": 4,
 "nbformat_minor": 5
}
